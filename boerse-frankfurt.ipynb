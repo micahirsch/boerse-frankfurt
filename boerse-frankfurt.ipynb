{
 "cells": [
  {
   "cell_type": "code",
   "execution_count": 6,
   "metadata": {},
   "outputs": [],
   "source": [
    "import pandas as pd\n",
    "from bs4 import BeautifulSoup as bs\n",
    "\n",
    "from selenium import webdriver\n",
    "from selenium.webdriver.chrome.options import Options\n",
    "from selenium.webdriver.common.keys import Keys\n",
    "from selenium.webdriver.support.ui import WebDriverWait\n",
    "from selenium.webdriver.common.by import By\n",
    "from selenium.webdriver.support import expected_conditions as EC\n",
    "from selenium.webdriver.common.action_chains import ActionChains\n",
    "from selenium.common.exceptions import NoSuchElementException\n",
    "\n",
    "import time\n",
    "\n",
    "from datetime import datetime\n",
    "from datetime import date\n",
    "\n",
    "\n",
    "from openpyxl import load_workbook"
   ]
  },
  {
   "cell_type": "code",
   "execution_count": 2,
   "metadata": {},
   "outputs": [],
   "source": [
    "urls = ['https://www.boerse-frankfurt.de/bond/xs1892141620-rumaenien-republik-2-875-18-29/price-history/historical-prices-and-volumes', \n",
    "       'https://www.boerse-frankfurt.de/bond/usp01012bx31-el-salvador-republik-8-625-17-29/price-history/historical-prices-and-volumes',\n",
    "       'https://www.boerse-frankfurt.de/bond/us040114hs26-argentinien-republik-0-5-20-30/price-history/historical-prices-and-volumes',\n",
    "       'https://www.boerse-frankfurt.de/bond/xs2214237807-ecuador-republik-5-5-20-30/price-history/historical-prices-and-volumes',\n",
    "       'https://www.boerse-frankfurt.de/bond/xs1297557412-ghana-republic-of-10-75-15-30/price-history/historical-prices-and-volumes',\n",
    "       'https://www.boerse-frankfurt.de/bond/xs1910827887-nigeria-bundesrepublik-8-747-18-31/price-history/historical-prices-and-volumes',]"
   ]
  },
  {
   "cell_type": "code",
   "execution_count": 5,
   "metadata": {},
   "outputs": [],
   "source": [
    "url = 'https://www.boerse-frankfurt.de/bond/us040114hs26-argentinien-republik-0-5-20-30/price-history/historical-prices-and-volumes'"
   ]
  },
  {
   "cell_type": "code",
   "execution_count": 3,
   "metadata": {},
   "outputs": [],
   "source": [
    "def check_exists_by_xpath(xpath):\n",
    "    try:\n",
    "        driver.find_element(By.XPATH, xpath)\n",
    "    except NoSuchElementException:\n",
    "        return False\n",
    "    return True\n",
    "\n",
    "def get_row_data(elem):\n",
    "    date = elem.find(name = 'td', attrs = {'class' : 'widget-table-cell'}).text\n",
    "    percentages = elem.find_all(name = 'td', attrs = {'class' : 'widget-table-cell text-right'})\n",
    "    volumes = elem.find_all(name = 'td', attrs = {'class' : 'widget-table-cell text-right ng-star-inserted'})\n",
    "    return [date, percentages[0].text, percentages[1].text, percentages[2].text, percentages[3].text, volumes[0].text, volumes[1].text]"
   ]
  },
  {
   "cell_type": "code",
   "execution_count": 7,
   "metadata": {},
   "outputs": [
    {
     "name": "stderr",
     "output_type": "stream",
     "text": [
      "<ipython-input-7-f8209d5d063f>:15: DeprecationWarning: executable_path has been deprecated, please pass in a Service object\n",
      "  driver = webdriver.Chrome(chrome_options = options, executable_path=r'C:\\Program Files (x86)\\chromedriver.exe')\n",
      "<ipython-input-7-f8209d5d063f>:15: DeprecationWarning: use options instead of chrome_options\n",
      "  driver = webdriver.Chrome(chrome_options = options, executable_path=r'C:\\Program Files (x86)\\chromedriver.exe')\n"
     ]
    },
    {
     "name": "stdout",
     "output_type": "stream",
     "text": [
      "29.279595136642456\n",
      "Rumänien\n",
      "28.518657445907593\n",
      "ElSalvador\n",
      "28.438639163970947\n",
      "Argentinien\n",
      "29.111467838287354\n",
      "Ecuador\n",
      "28.7118182182312\n",
      "Ghana\n",
      "28.746888637542725\n",
      "Nigeria\n"
     ]
    }
   ],
   "source": [
    "first = True\n",
    "filepath = 'boerse/boerse-' + str(date.today())+'.xlsx'\n",
    "for url in urls:\n",
    "    df = pd.DataFrame(columns = ['Date', 'Open', 'Close', 'High', 'Low', 'Volume €', 'Volume nominal'])\n",
    "\n",
    "    start = time.time()\n",
    "\n",
    "    options = Options()\n",
    "    # options.add_experimental_option(\"excludeSwitches\", [\"enable-automation\"])\n",
    "    # options.add_experimental_option('useAutomationExtension', False)\n",
    "    # options.add_argument('--disable-blink-features=AutomationControlled')\n",
    "\n",
    "\n",
    "    options.binary_location = 'C:\\Program Files\\Google\\Chrome\\Application\\chrome.exe'\n",
    "    driver = webdriver.Chrome(chrome_options = options, executable_path=r'C:\\Program Files (x86)\\chromedriver.exe')\n",
    "\n",
    "    driver.get(url)\n",
    "    try:\n",
    "        action = ActionChains(driver)\n",
    "    \n",
    "        # Setting up the page\n",
    "        xpath_100 = '/html/body/app-root/app-wrapper/div/div[2]/app-bond/div[2]/div/app-price-history/div[2]/div/div/app-page-bar[1]/div/div[2]/button[3]'\n",
    "        button_100 = WebDriverWait(driver, 10).until(EC.presence_of_element_located((By.XPATH, xpath_100)))\n",
    "        action.click(on_element = button_100)\n",
    "        action.perform()\n",
    "        time.sleep(5)\n",
    "    \n",
    "        i = 4\n",
    "        while (check_exists_by_xpath('/html/body/app-root/app-wrapper/div/div[2]/app-bond/div[2]/div/app-price-history/div[2]/div/div/app-page-bar[1]/div/div[1]/button['+str(i + 2)+']')):\n",
    "            page_source = driver.page_source\n",
    "            soup = bs(page_source, 'html.parser')\n",
    "            \n",
    "            # Retrieving data\n",
    "            li = soup.find_all(name = 'tr', attrs = {'class' : 'widget-table-row ng-star-inserted'})\n",
    "            for elem in li:\n",
    "                df.loc[len(df.index)] = get_row_data(elem)\n",
    "    \n",
    "            xpath = '/html/body/app-root/app-wrapper/div/div[2]/app-bond/div[2]/div/app-price-history/div[2]/div/div/app-page-bar[1]/div/div[1]/button['+str(i)+']'\n",
    "            next_button = WebDriverWait(driver, 10).until(EC.presence_of_element_located((By.XPATH, xpath)))\n",
    "            action.click(on_element = next_button)\n",
    "            action.perform()\n",
    "            time.sleep(5)\n",
    "            i += 1\n",
    "        \n",
    "        page_source = driver.page_source\n",
    "        soup = bs(page_source, 'html.parser')\n",
    "        \n",
    "        li = soup.find_all(name = 'tr', attrs = {'class' : 'widget-table-row ng-star-inserted'})\n",
    "        for elem in li:\n",
    "            df.loc[len(df.index)] = get_row_data(elem)\n",
    "    \n",
    "        country = soup.find(attrs = {'class' : 'instrument-name'}).text\n",
    "    except:\n",
    "        print('murio')\n",
    "        driver.quit()\n",
    "    \n",
    "    driver.quit()\n",
    "    \n",
    "    end = time.time()\n",
    "    \n",
    "    print(end - start)\n",
    "    \n",
    "    name = ''\n",
    "    for word in country.split():\n",
    "        if not (word[len(word) - 1] == ','):\n",
    "            name = name + word\n",
    "        else:\n",
    "            name = name + word[0:(len(word) - 1)]\n",
    "            break\n",
    "    print(name)\n",
    "    \n",
    "    if first:\n",
    "        first = False\n",
    "        df.to_excel(filepath, sheet_name = name, index = False)\n",
    "    else:\n",
    "        # Generating workbook\n",
    "        ExcelWorkbook = load_workbook(filepath)\n",
    "         \n",
    "        # Generating the writer engine\n",
    "        writer = pd.ExcelWriter(filepath, engine = 'openpyxl')\n",
    "         \n",
    "        # Assigning the workbook to the writer engine\n",
    "        writer.book = ExcelWorkbook\n",
    "         \n",
    "        # Adding the DataFrames to the excel as a new sheet\n",
    "        df.to_excel(writer, sheet_name = name)\n",
    "        writer.save()\n",
    "        writer.close()\n"
   ]
  },
  {
   "cell_type": "code",
   "execution_count": null,
   "metadata": {},
   "outputs": [],
   "source": []
  }
 ],
 "metadata": {
  "kernelspec": {
   "display_name": "Python 3",
   "language": "python",
   "name": "python3"
  },
  "language_info": {
   "codemirror_mode": {
    "name": "ipython",
    "version": 3
   },
   "file_extension": ".py",
   "mimetype": "text/x-python",
   "name": "python",
   "nbconvert_exporter": "python",
   "pygments_lexer": "ipython3",
   "version": "3.8.5"
  }
 },
 "nbformat": 4,
 "nbformat_minor": 4
}
